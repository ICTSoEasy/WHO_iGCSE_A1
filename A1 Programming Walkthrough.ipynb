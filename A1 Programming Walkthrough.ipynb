{
 "cells": [
  {
   "cell_type": "markdown",
   "metadata": {},
   "source": [
    "# Walkthrough for iGCSE Computer Science\n",
    "## Assignment 1 - Programming Task"
   ]
  },
  {
   "cell_type": "markdown",
   "metadata": {},
   "source": [
    "Programs are essentially:\n",
    "\n",
    "Making some boxes to hold stuff in – we call the boxes variables because they can change.\n",
    "Doing some things to change the stuff in the boxes\n",
    "Telling the user what the stuff in the boxes is\n",
    "If we keep this in mind, the only tricky bits are:\n",
    "\n",
    "Remembering key words and syntax\n",
    "Figuring out how to do the changes we’re asked. This is normally just a bit of maths."
   ]
  },
  {
   "cell_type": "markdown",
   "metadata": {},
   "source": [
    "### Question 1\n",
    "Ok this is theory, but we can do some programming too! Computers **only** understand binary - 0s and 1s. If I give the computer the binary data 00110110 this could represent a whole number, a decimal number, a character, a piece of sound, a part of an image...\n",
    "\n",
    "So when we create a variable, we declare a data type. In some languages we do this explicitly by saying \"this will be an integer\", in Python it's done by assigning some data. If we say **4.1** it *has* to be a floating point (decimal) number. \"speach marks\" mean it *has* to be a string.\n",
    "\n",
    "We can look at what data type a variable is by using the `type` keyword."
   ]
  },
  {
   "cell_type": "code",
   "execution_count": null,
   "metadata": {},
   "outputs": [],
   "source": [
    "s = \"hello world\"\n",
    "print(type(s))"
   ]
  },
  {
   "cell_type": "markdown",
   "metadata": {},
   "source": [
    "A string (str) is a combination of characters and digits *which are treated as letters* - note that \"1\" is not the same as 1! You may think of it as \"text\" - I think of it as a \"string of characters\"."
   ]
  },
  {
   "cell_type": "code",
   "execution_count": null,
   "metadata": {},
   "outputs": [],
   "source": [
    "f = 1.4\n",
    "print(type(f))"
   ]
  },
  {
   "cell_type": "markdown",
   "metadata": {},
   "source": [
    "A float or real number is a number that has a decimal point. Ok, it may be 1.0 but there's still a decimal point. The **float** part of it refers to the way the point is stored in memory."
   ]
  },
  {
   "cell_type": "code",
   "execution_count": null,
   "metadata": {},
   "outputs": [],
   "source": [
    "b = True\n",
    "print(type(b))"
   ]
  },
  {
   "cell_type": "markdown",
   "metadata": {},
   "source": [
    "A Boolean - bool for short - is named after George Boole who was a mathematician, incredibly clever, and has a fab story related to his death. His theory has made computing possible - and it's all based on the theory that we have only two states - something *is* or it *isn't*. In this case we assign these the values of **True** or **False**. Note the capitalisation - very important in Python!"
   ]
  },
  {
   "cell_type": "markdown",
   "metadata": {},
   "source": [
    "### Question 2\n",
    "So we need to (a) figure out what to call the variables, (b) how to do this assignment thing and (c) what type of data they are going to be (by assigning an initial value),\n",
    "\n",
    "(a) There are various naming conventions, but as a rule of thumb variable names should be short, descriptive, and start with a letter. No spaces! I like using the format of wordsWithCapitalsToSignifySpaces.\n",
    "\n",
    "For Boolean variables, should should be able to answer it as a yes/no question.\n",
    "\n",
    "`guestName`\n",
    "\n",
    "`numNights`\n",
    "\n",
    "`eveMealNeeded`\n",
    "\n",
    "Now, assignment. It's dead simple - we say \"variableName becomes equal to value\". But - and this is really important to remember - programmers are lazy. We can't do much about the variable name or the value, but let's replace that \"becomes equal to\" with a single character. How about =? So in this case = is read as \"becomes equal to\" not \"is equal to\"!\n",
    "\n",
    "\n",
    "`guestName = `\n",
    "\n",
    "`numNights = `\n",
    "\n",
    "`eveMealNeeded = `\n",
    "\n",
    "Now it's just a case of some sensible initial values. "
   ]
  },
  {
   "cell_type": "markdown",
   "metadata": {},
   "source": [
    "guestName is going to be a string - it's text. We can set that to just be an empty string - so two speach marks. Either type will do!"
   ]
  },
  {
   "cell_type": "code",
   "execution_count": null,
   "metadata": {},
   "outputs": [],
   "source": [
    "guestName = ''\n",
    "print(type(guestName))\n",
    "guestName = \"\"\n",
    "print(type(guestName))"
   ]
  },
  {
   "cell_type": "markdown",
   "metadata": {},
   "source": [
    "numNights is obviously going to be a number, but what type? Well, if your hotel is rubbish you may only stay 0.5 nights, but you'll still be booking for a whole number (an integer). So let's set it to the smallest integer we can think of!"
   ]
  },
  {
   "cell_type": "code",
   "execution_count": null,
   "metadata": {},
   "outputs": [],
   "source": [
    "numNights = 0\n",
    "print(type(numNights))"
   ]
  },
  {
   "cell_type": "markdown",
   "metadata": {},
   "source": [
    "What about the need for an evening meal. Well, what question would you ask the guest: \"Would you like an evening meal?\" - and they'll answer \"yes\" or \"no\". So it must, therefore, be a Boolean. We'll default it to **True** because then if they forget to change it we can charge our guests more money!"
   ]
  },
  {
   "cell_type": "code",
   "execution_count": null,
   "metadata": {},
   "outputs": [],
   "source": [
    "eveMealNeeded = True\n",
    "print(type(eveMealNeeded))"
   ]
  },
  {
   "cell_type": "markdown",
   "metadata": {},
   "source": [
    "I appreciate this is more detail than needed in the assignment but I find it helps to talk through a full process."
   ]
  },
  {
   "cell_type": "markdown",
   "metadata": {},
   "source": [
    "### Question 3\n",
    "Ok, so this can be easy, or less easy. \n",
    "\n",
    "Input works by: variableName becomes equal to input(\"some input prompt\") But we know we can replace the \"becomes equal to\" with an = so we're left with:"
   ]
  },
  {
   "cell_type": "code",
   "execution_count": null,
   "metadata": {},
   "outputs": [],
   "source": [
    "variableName = input('some input prompt')"
   ]
  },
  {
   "cell_type": "markdown",
   "metadata": {},
   "source": [
    "So we can do as little as:"
   ]
  },
  {
   "cell_type": "code",
   "execution_count": null,
   "metadata": {},
   "outputs": [],
   "source": [
    "name = input('Enter your name: ')\n",
    "age = input('Enter your age: ')\n",
    "nationality = input('Enter your nationality: ')"
   ]
  },
  {
   "cell_type": "markdown",
   "metadata": {},
   "source": [
    "But - of course - that age is a problem because it's stored as a string!"
   ]
  },
  {
   "cell_type": "code",
   "execution_count": null,
   "metadata": {},
   "outputs": [],
   "source": [
    "print(type(age))"
   ]
  },
  {
   "cell_type": "markdown",
   "metadata": {},
   "source": [
    "We can convert it to an integer, or more appropriately a float, using a process called type-casting:"
   ]
  },
  {
   "cell_type": "code",
   "execution_count": null,
   "metadata": {},
   "outputs": [],
   "source": [
    "age = int(age)\n",
    "print(type(age))\n",
    "age = float(age)\n",
    "print(type(age))"
   ]
  },
  {
   "cell_type": "markdown",
   "metadata": {},
   "source": [
    "We can actually do this at input time: "
   ]
  },
  {
   "cell_type": "code",
   "execution_count": null,
   "metadata": {},
   "outputs": [],
   "source": [
    "age = float(input('Enter your age: '))\n",
    "print(type(age))"
   ]
  },
  {
   "cell_type": "markdown",
   "metadata": {},
   "source": [
    "Beware! If you enter something that is **not** a number your program will crash. That is dealt with in a later part of the course."
   ]
  },
  {
   "cell_type": "markdown",
   "metadata": {},
   "source": [
    "What about the outputting though? We *can* just output everything using print statements:"
   ]
  },
  {
   "cell_type": "code",
   "execution_count": null,
   "metadata": {},
   "outputs": [],
   "source": [
    "print('Your name is ')\n",
    "print(name)\n",
    "print('Your age is ')\n",
    "print(age)\n",
    "print('Your nationality is ')\n",
    "print(nationality)"
   ]
  },
  {
   "cell_type": "markdown",
   "metadata": {},
   "source": [
    "But that looks a bit rubbish. We could get rid of the line breaks using a clever technique:"
   ]
  },
  {
   "cell_type": "code",
   "execution_count": null,
   "metadata": {},
   "outputs": [],
   "source": [
    "print('Your name is ',end='')\n",
    "print(name)\n",
    "print('Your age is ',end='')\n",
    "print(age)\n",
    "print('Your nationality is ',end='')\n",
    "print(nationality)"
   ]
  },
  {
   "cell_type": "markdown",
   "metadata": {},
   "source": [
    "It's probably nicer to concatenate them - join the bits together - using the + operator."
   ]
  },
  {
   "cell_type": "code",
   "execution_count": null,
   "metadata": {},
   "outputs": [],
   "source": [
    "print('Your name is '+name+', your age is '+str(age)+', your nationality is '+nationality)"
   ]
  },
  {
   "cell_type": "markdown",
   "metadata": {},
   "source": [
    "(note I had to typecast the float back to a string?)\n",
    "\n",
    "Python (3), however, lets us do a kind of magic-concatenation using commas to seperate the bits. Note every comma adds a space, but I don't have to typecast the number. "
   ]
  },
  {
   "cell_type": "code",
   "execution_count": null,
   "metadata": {},
   "outputs": [],
   "source": [
    "print('Your name is',name,'your age is',age,'your nationality is',nationality)"
   ]
  },
  {
   "cell_type": "markdown",
   "metadata": {},
   "source": [
    "There really is no right and wrong, though some ways are generally better than others. What's important is to choose the right method for your use-case scenario. So our whole program might be thus:"
   ]
  },
  {
   "cell_type": "code",
   "execution_count": null,
   "metadata": {},
   "outputs": [],
   "source": [
    "name = input('Enter your name: ')\n",
    "age = float(input('Enter your age: '))\n",
    "nationality = input('Enter your nationality: ')\n",
    "print('Your name is',name,'your age is',age,'your nationality is',nationality)"
   ]
  },
  {
   "cell_type": "markdown",
   "metadata": {},
   "source": [
    "### Question 4\n",
    "Now we've dealt with the tricksy bits of type casting and concatenation in Question 3, Question 4 is super easy!\n",
    "\n",
    "As we're set on three numbers, num1, num2 and num3 are fine for the names. We just need to type cast them to inputs."
   ]
  },
  {
   "cell_type": "code",
   "execution_count": null,
   "metadata": {},
   "outputs": [],
   "source": [
    "num1 = int(input('Please enter first number between 1 and 10: '))\n",
    "num2 = int(input('Please enter second number between 1 and 10: '))\n",
    "num3 = int(input('Please enter third number between 1 and 10: '))"
   ]
  },
  {
   "cell_type": "markdown",
   "metadata": {},
   "source": [
    "And we need to concatenate these together - as there's a mix of numbers and text using commas is probably best."
   ]
  },
  {
   "cell_type": "code",
   "execution_count": null,
   "metadata": {},
   "outputs": [],
   "source": [
    "print('The numbers you entered were',num1,'and',num2,'and',num3)"
   ]
  }
 ],
 "metadata": {
  "kernelspec": {
   "display_name": "Python 3",
   "language": "python",
   "name": "python3"
  },
  "language_info": {
   "codemirror_mode": {
    "name": "ipython",
    "version": 3
   },
   "file_extension": ".py",
   "mimetype": "text/x-python",
   "name": "python",
   "nbconvert_exporter": "python",
   "pygments_lexer": "ipython3",
   "version": "3.7.1"
  }
 },
 "nbformat": 4,
 "nbformat_minor": 2
}
